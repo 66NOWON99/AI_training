{
 "cells": [
  {
   "cell_type": "code",
   "execution_count": 1,
   "metadata": {},
   "outputs": [],
   "source": [
    "import tensorflow as tf"
   ]
  },
  {
   "cell_type": "code",
   "execution_count": 5,
   "metadata": {},
   "outputs": [
    {
     "name": "stdout",
     "output_type": "stream",
     "text": [
      "outs = 5\n"
     ]
    }
   ],
   "source": [
    "a = tf.constant(5)\n",
    "b = tf.constant(2)\n",
    "c = tf.constant(3)\n",
    "d = tf.multiply(a,b) #10\n",
    "e = tf.add(c,b) #5\n",
    "f = tf.subtract(d,e) #5\n",
    "\n",
    "#memory에 올려서 실제로 계산할 수 있는 공간(tf에선 sess라고 부른다 (세션))\n",
    "sess = tf.Session()\n",
    "outs = sess.run(f)\n",
    "sess.close() #연산 종료 후 세션은 필요없어짐\n",
    "print(\"outs = {}\".format(outs))"
   ]
  },
  {
   "cell_type": "code",
   "execution_count": 10,
   "metadata": {},
   "outputs": [
    {
     "name": "stdout",
     "output_type": "stream",
     "text": [
      "outs = [5, 2, 10, 100, 20.0]\n"
     ]
    }
   ],
   "source": [
    "a = tf.constant(5)\n",
    "b = tf.constant(2)\n",
    "c = tf.multiply(a,b)\n",
    "d = tf.pow(c,2) \n",
    "e = tf.divide(d,a) \n",
    "\n",
    "with tf.Session() as sess:\n",
    "    fetches = [a,b,c,d,e] #여러개의 값을 가져오고 싶음-list\n",
    "    outs = sess.run(fetches) #session run에서 연산 결과값들을 모두 볼 수 있음\n",
    "# sess.close() #연산 종료 후 세션은 필요없어짐\n",
    "#with문과 사용하면 해당 자료는 자동으로 종료됨\n",
    "print(\"outs = {}\".format(outs))"
   ]
  },
  {
   "cell_type": "code",
   "execution_count": 12,
   "metadata": {},
   "outputs": [
    {
     "name": "stdout",
     "output_type": "stream",
     "text": [
      "(2, 3)\n"
     ]
    }
   ],
   "source": [
    "a = tf.constant([[1,2,3],[4,5,6]])\n",
    "print(a.get_shape())"
   ]
  },
  {
   "cell_type": "code",
   "execution_count": 23,
   "metadata": {},
   "outputs": [
    {
     "name": "stdout",
     "output_type": "stream",
     "text": [
      "(3,)\n"
     ]
    }
   ],
   "source": [
    "x = tf.constant([1,0,1])\n",
    "print(x.get_shape()) #1차원의 요소만 갖고있음 2차원의 요소x"
   ]
  },
  {
   "cell_type": "code",
   "execution_count": 24,
   "metadata": {},
   "outputs": [
    {
     "name": "stdout",
     "output_type": "stream",
     "text": [
      "(3, 1)\n"
     ]
    }
   ],
   "source": [
    "x=tf.expand_dims(x,1)\n",
    "print(x.get_shape()) #2차원의 요소"
   ]
  },
  {
   "cell_type": "code",
   "execution_count": 31,
   "metadata": {},
   "outputs": [
    {
     "name": "stdout",
     "output_type": "stream",
     "text": [
      "Tensor(\"MatMul_9:0\", shape=(2, 1), dtype=int32)\n",
      "matmul : \n",
      " [[ 4]\n",
      " [10]]\n",
      "\n"
     ]
    }
   ],
   "source": [
    "b = tf.matmul(a,x)\n",
    "print(b) #matrix연산 해당 값이 안나옴; tensor로서 muptiply-연산그래프에 올라가있지만 실행은 안됨. 실행하려면 session이 있어야함\n",
    "\n",
    "sess = tf.InteractiveSession()\n",
    "print(\"matmul : \\n {}\\n\".format(b.eval()))"
   ]
  },
  {
   "cell_type": "code",
   "execution_count": 32,
   "metadata": {},
   "outputs": [
    {
     "name": "stdout",
     "output_type": "stream",
     "text": [
      "(3,)\n"
     ]
    }
   ],
   "source": [
    "import numpy as np\n",
    "\n",
    "x = np.array([1,0,1])\n",
    "print(x.shape)"
   ]
  },
  {
   "cell_type": "code",
   "execution_count": 35,
   "metadata": {},
   "outputs": [
    {
     "name": "stdout",
     "output_type": "stream",
     "text": [
      "(3, 1)\n",
      "matmul : \n",
      " [[ 4]\n",
      " [10]]\n",
      "\n"
     ]
    }
   ],
   "source": [
    "a = tf.constant([[1,2,3],[4,5,6]])\n",
    "x = x[:,np.newaxis]\n",
    "print(x.shape)\n",
    "b = tf.matmul(a,x)\n",
    "print(\"matmul : \\n {}\\n\".format(b.eval()))"
   ]
  },
  {
   "cell_type": "code",
   "execution_count": 36,
   "metadata": {},
   "outputs": [
    {
     "name": "stdout",
     "output_type": "stream",
     "text": [
      "pre run : \n",
      "<tf.Variable 'var:0' shape=(1, 5) dtype=float32_ref>\n",
      "\n",
      "post_var : \n",
      "[[-0.21948096  0.30375865 -2.0269723   0.73806727 -1.3559493 ]]\n"
     ]
    }
   ],
   "source": [
    "# 세션 이전 - 연산 그래프 생성\n",
    "val = tf.random_normal((1,5),0,1)\n",
    "var = tf.Variable(val, name='var')\n",
    "print(\"pre run : \\n{}\".format(var))\n",
    "\n",
    "# 세션 이후 - 세션을 통해 얻고자 하는 것들\n",
    "init = tf.global_variables_initializer()    # 환경 구축 - 초기값 설정\n",
    "with tf.Session() as sess:\n",
    "    sess.run(init)\n",
    "    post_var = sess.run(var)\n",
    "print(\"\\npost_var : \\n{}\".format(post_var))"
   ]
  },
  {
   "cell_type": "code",
   "execution_count": 43,
   "metadata": {},
   "outputs": [
    {
     "name": "stdout",
     "output_type": "stream",
     "text": [
      "x = \n",
      "[[-6.4637899e-01  5.0465524e-01 -8.4131855e-01  7.0972842e-01\n",
      "  -3.5445589e-01  4.4409052e-04 -2.8819400e-01  5.8964568e-01\n",
      "   6.6692019e-01  5.3221393e-01]\n",
      " [-5.2457333e-02  3.6290687e-01 -5.0622135e-01 -1.7876008e+00\n",
      "  -4.4583356e-01  3.8469851e-01 -9.2215681e-01  1.0227082e+00\n",
      "   1.6083311e+00  1.8974502e-01]\n",
      " [-7.5138770e-02  2.1438382e+00  5.1633644e-01 -2.3175032e+00\n",
      "  -2.3618360e+00 -7.8297600e-02 -5.9390951e-02 -8.0475181e-01\n",
      "   3.7054425e-01  8.9817131e-01]\n",
      " [ 1.9269137e-01 -1.1300553e+00  7.8158253e-01  2.3811232e-01\n",
      "   6.7313474e-01 -3.6643812e-01 -6.8165934e-01 -1.0833520e+00\n",
      "  -1.5488298e-01  4.2580971e-01]\n",
      " [ 2.5468750e+00  9.6307114e-02  3.8168710e-01 -7.2092468e-01\n",
      "  -6.2181264e-01 -1.5937555e+00  4.1051626e-01 -1.6510336e+00\n",
      "  -9.5219213e-01  1.2628815e+00]]\n",
      "w = \n",
      "[[-1.577032  ]\n",
      " [-0.62074465]\n",
      " [ 1.7152332 ]\n",
      " [-0.14058429]\n",
      " [-0.25408873]\n",
      " [ 0.27111474]\n",
      " [-1.8207822 ]\n",
      " [-0.9978685 ]\n",
      " [-1.270613  ]\n",
      " [-0.08595094]]\n",
      "s = 2.9167277812957764\n"
     ]
    }
   ],
   "source": [
    "x_data = np.random.randn(5,10)\n",
    "w_data = np.random.randn(10,1)\n",
    "#print(x_data, w_data)\n",
    "\n",
    "with tf.Graph().as_default():\n",
    "    x = tf.placeholder(tf.float32, shape=(5,10))\n",
    "    w = tf.placeholder(tf.float32, shape=(10,1))\n",
    "    b = tf.fill((5,1), -1.)\n",
    "    xw = tf.matmul(x,w)\n",
    "    xwb = xw + b\n",
    "    s = tf.reduce_max(xwb)\n",
    "    with tf.Session() as sess:\n",
    "        outs = sess.run([x, w, s], feed_dict={x:x_data, w:w_data})\n",
    "print(\"x = \\n{}\\nw = \\{}\\ns = {}\".format(outs[0], outs[1], outs[2]))"
   ]
  },
  {
   "cell_type": "code",
   "execution_count": 52,
   "metadata": {},
   "outputs": [
    {
     "data": {
      "text/plain": [
       "matrix([[-1.17093590e+17],\n",
       "        [ 9.00719925e+15],\n",
       "        [-7.20000000e+01]])"
      ]
     },
     "execution_count": 52,
     "metadata": {},
     "output_type": "execute_result"
    }
   ],
   "source": [
    "def standRegres(xArr, yArr):\n",
    "    xMat = np.mat(xArr)\n",
    "    yMat = np.mat(yArr).T\n",
    "    \n",
    "    xTx = xMat.T*xMat\n",
    "    if np.linalg.det(xTx) == 0.0:\n",
    "        print(\"This matrix is singular\")\n",
    "        return\n",
    "    ws = xTx.I * (xMat.T*yMat)\n",
    "    return ws\n",
    "\n",
    "xArr = np.array([[1, 3, 3],[1, 3, 4]])    # [1,1] = bias\n",
    "yArr = np.array([[2, 3]])\n",
    "\n",
    "standRegres(xArr, yArr)    # >>> bias, 가중치"
   ]
  },
  {
   "cell_type": "code",
   "execution_count": 72,
   "metadata": {},
   "outputs": [
    {
     "name": "stdout",
     "output_type": "stream",
     "text": [
      "0 [array([[0.065, 0.09 ]], dtype=float32), 0.024999999]\n",
      "5000 [array([[0.6144856, 0.3513138]], dtype=float32), -0.26317656]\n",
      "10000 [array([[0.65868545, 0.33608818]], dtype=float32), -0.32261968]\n",
      "15000 [array([[0.66543734, 0.3337633 ]], dtype=float32), -0.33170304]\n",
      "20000 [array([[0.66646665, 0.33340943]], dtype=float32), -0.33309034]\n",
      "25000 [array([[0.66660666, 0.33336723]], dtype=float32), -0.33330047]\n",
      "30000 [array([[0.66660666, 0.33336723]], dtype=float32), -0.33330047]\n",
      "35000 [array([[0.66660666, 0.33336723]], dtype=float32), -0.33330047]\n",
      "40000 [array([[0.66660666, 0.33336723]], dtype=float32), -0.33330047]\n",
      "45000 [array([[0.66660666, 0.33336723]], dtype=float32), -0.33330047]\n",
      "50000 [array([[0.66660666, 0.33336723]], dtype=float32), -0.33330047]\n",
      "55000 [array([[0.66660666, 0.33336723]], dtype=float32), -0.33330047]\n",
      "60000 [array([[0.66660666, 0.33336723]], dtype=float32), -0.33330047]\n",
      "65000 [array([[0.66660666, 0.33336723]], dtype=float32), -0.33330047]\n",
      "70000 [array([[0.66660666, 0.33336723]], dtype=float32), -0.33330047]\n",
      "75000 [array([[0.66660666, 0.33336723]], dtype=float32), -0.33330047]\n",
      "80000 [array([[0.66660666, 0.33336723]], dtype=float32), -0.33330047]\n",
      "85000 [array([[0.66660666, 0.33336723]], dtype=float32), -0.33330047]\n",
      "90000 [array([[0.66660666, 0.33336723]], dtype=float32), -0.33330047]\n",
      "95000 [array([[0.66660666, 0.33336723]], dtype=float32), -0.33330047]\n",
      "99999 [array([[0.66660666, 0.33336723]], dtype=float32), -0.33330047]\n"
     ]
    }
   ],
   "source": [
    "# 연산 그래프 정의\n",
    "x_data = np.array([[2,3],[3,4]])\n",
    "y_data = np.array([[2,3]])\n",
    "\n",
    "with tf.Graph().as_default():\n",
    "    x = tf.placeholder(tf.float32, shape=[None,2])\n",
    "    y = tf.placeholder(tf.float32, shape=None)\n",
    "    \n",
    "    w = tf.Variable([[0,0]], dtype=tf.float32, name='weight')\n",
    "    b = tf.Variable(0, dtype=tf.float32, name='bias')\n",
    "    \n",
    "    y_hat = tf.matmul(w, tf.transpose(x)) + b\n",
    "    \n",
    "    loss = tf.reduce_mean(tf.square(y - y_hat))\n",
    "#     cost = tf.Variable(loss, dtype=tf.float32, name='cost')\n",
    "    \n",
    "# 연산자 정의?   \n",
    "    optimizer = tf.train.GradientDescentOptimizer(learning_rate=0.005)    # learning rate = 접근 보폭\n",
    "    train = optimizer.minimize(loss)\n",
    "    \n",
    "    init = tf.global_variables_initializer()\n",
    "    with tf.Session() as sess:\n",
    "        sess.run(init)\n",
    "        for step in range(100000):\n",
    "            sess.run(train, feed_dict={x:x_data, y:y_data})\n",
    "            if (step % 5000 == 0):\n",
    "                print(step, sess.run([w,b]))\n",
    "        print(step, sess.run([w,b]))\n",
    "        \n",
    "# 하이퍼 파라미터 : learning rate, step"
   ]
  },
  {
   "cell_type": "code",
   "execution_count": 70,
   "metadata": {},
   "outputs": [
    {
     "name": "stdout",
     "output_type": "stream",
     "text": [
      "0 [array([[0.025, 0.065, 0.09 ]], dtype=float32)]\n",
      "5000 [array([[-0.26317695,  0.61448556,  0.35131398]], dtype=float32)]\n",
      "10000 [array([[-0.32262057,  0.65868396,  0.33608952]], dtype=float32)]\n",
      "15000 [array([[-0.33170453,  0.6654359 ,  0.33376473]], dtype=float32)]\n",
      "20000 [array([[-0.33309162,  0.66646445,  0.3334114 ]], dtype=float32)]\n",
      "25000 [array([[-0.33330128,  0.6666064 ,  0.33336762]], dtype=float32)]\n",
      "30000 [array([[-0.33330128,  0.6666064 ,  0.33336762]], dtype=float32)]\n",
      "35000 [array([[-0.33330128,  0.6666064 ,  0.33336762]], dtype=float32)]\n",
      "40000 [array([[-0.33330128,  0.6666064 ,  0.33336762]], dtype=float32)]\n",
      "45000 [array([[-0.33330128,  0.6666064 ,  0.33336762]], dtype=float32)]\n",
      "50000 [array([[-0.33330128,  0.6666064 ,  0.33336762]], dtype=float32)]\n",
      "55000 [array([[-0.33330128,  0.6666064 ,  0.33336762]], dtype=float32)]\n",
      "60000 [array([[-0.33330128,  0.6666064 ,  0.33336762]], dtype=float32)]\n",
      "65000 [array([[-0.33330128,  0.6666064 ,  0.33336762]], dtype=float32)]\n",
      "70000 [array([[-0.33330128,  0.6666064 ,  0.33336762]], dtype=float32)]\n",
      "75000 [array([[-0.33330128,  0.6666064 ,  0.33336762]], dtype=float32)]\n",
      "80000 [array([[-0.33330128,  0.6666064 ,  0.33336762]], dtype=float32)]\n",
      "85000 [array([[-0.33330128,  0.6666064 ,  0.33336762]], dtype=float32)]\n",
      "90000 [array([[-0.33330128,  0.6666064 ,  0.33336762]], dtype=float32)]\n",
      "95000 [array([[-0.33330128,  0.6666064 ,  0.33336762]], dtype=float32)]\n",
      "99999 [array([[-0.33330128,  0.6666064 ,  0.33336762]], dtype=float32)]\n"
     ]
    }
   ],
   "source": [
    "x_data = np.array([[1,2,3],[1,3,4]])\n",
    "y_data = np.array([[2,3]])\n",
    "\n",
    "with tf.Graph().as_default():\n",
    "    x = tf.placeholder(tf.float32, shape=[None,3])\n",
    "    y = tf.placeholder(tf.float32, shape=None)\n",
    "    \n",
    "    w = tf.Variable([[0,0,0]], dtype=tf.float32, name='weight')\n",
    "#     b = tf.Variable(0, dtype=tf.float32, name='bias')\n",
    "    \n",
    "    y_hat = tf.matmul(w, tf.transpose(x)) #+ b\n",
    "    \n",
    "    loss = tf.reduce_mean(tf.square(y - y_hat))\n",
    "#     cost = tf.Variable(loss, dtype=tf.float32, name='cost')\n",
    "    \n",
    "    optimizer = tf.train.GradientDescentOptimizer(learning_rate=0.005)    # learning rate = 접근 보폭\n",
    "    train = optimizer.minimize(loss)\n",
    "    \n",
    "    init = tf.global_variables_initializer()\n",
    "    with tf.Session() as sess:\n",
    "        sess.run(init)\n",
    "        for step in range(100000):\n",
    "            sess.run(train, feed_dict={x:x_data, y:y_data})\n",
    "            if (step % 5000 == 0):\n",
    "                print(step, sess.run([w]))\n",
    "        print(step, sess.run([w]))"
   ]
  },
  {
   "cell_type": "code",
   "execution_count": 68,
   "metadata": {},
   "outputs": [
    {
     "data": {
      "text/plain": [
       "array([[1.8, 2.7]])"
      ]
     },
     "execution_count": 68,
     "metadata": {},
     "output_type": "execute_result"
    }
   ],
   "source": [
    "x_data = np.array([[2,3],[3,4]])\n",
    "w_data = np.array([[0.6, 0.3]])\n",
    "b_data = -0.3\n",
    "y_data = np.array([[2,3]])\n",
    "np.matmul(w_data, x_data) + b_data"
   ]
  },
  {
   "cell_type": "code",
   "execution_count": 69,
   "metadata": {},
   "outputs": [
    {
     "data": {
      "text/plain": [
       "array([[2.00001454, 2.99998843]])"
      ]
     },
     "execution_count": 69,
     "metadata": {},
     "output_type": "execute_result"
    }
   ],
   "source": [
    "x_data = np.array([[2,3],[3,4]])\n",
    "w_data = np.array([[0.66660666, 0.33336723]])\n",
    "b_data = -0.33330047\n",
    "y_data = np.array([[2,3]])\n",
    "np.matmul(w_data, x_data) + b_data"
   ]
  },
  {
   "cell_type": "code",
   "execution_count": 86,
   "metadata": {},
   "outputs": [
    {
     "name": "stdout",
     "output_type": "stream",
     "text": [
      "0 [array([[0.085, 0.05 , 0.025]], dtype=float32)]\n",
      "5000 [array([[-0.9586928,  2.3413284,  1.1706642]], dtype=float32)]\n",
      "10000 [array([[-0.9988463,  2.3983617,  1.1991808]], dtype=float32)]\n",
      "15000 [array([[-0.99990505,  2.3998647 ,  1.1999323 ]], dtype=float32)]\n",
      "20000 [array([[-0.99990505,  2.3998647 ,  1.1999323 ]], dtype=float32)]\n",
      "25000 [array([[-0.99990505,  2.3998647 ,  1.1999323 ]], dtype=float32)]\n",
      "30000 [array([[-0.99990505,  2.3998647 ,  1.1999323 ]], dtype=float32)]\n",
      "35000 [array([[-0.99990505,  2.3998647 ,  1.1999323 ]], dtype=float32)]\n",
      "40000 [array([[-0.99990505,  2.3998647 ,  1.1999323 ]], dtype=float32)]\n",
      "45000 [array([[-0.99990505,  2.3998647 ,  1.1999323 ]], dtype=float32)]\n",
      "50000 [array([[-0.99990505,  2.3998647 ,  1.1999323 ]], dtype=float32)]\n",
      "55000 [array([[-0.99990505,  2.3998647 ,  1.1999323 ]], dtype=float32)]\n",
      "60000 [array([[-0.99990505,  2.3998647 ,  1.1999323 ]], dtype=float32)]\n",
      "65000 [array([[-0.99990505,  2.3998647 ,  1.1999323 ]], dtype=float32)]\n",
      "70000 [array([[-0.99990505,  2.3998647 ,  1.1999323 ]], dtype=float32)]\n",
      "75000 [array([[-0.99990505,  2.3998647 ,  1.1999323 ]], dtype=float32)]\n",
      "80000 [array([[-0.99990505,  2.3998647 ,  1.1999323 ]], dtype=float32)]\n",
      "85000 [array([[-0.99990505,  2.3998647 ,  1.1999323 ]], dtype=float32)]\n",
      "90000 [array([[-0.99990505,  2.3998647 ,  1.1999323 ]], dtype=float32)]\n",
      "95000 [array([[-0.99990505,  2.3998647 ,  1.1999323 ]], dtype=float32)]\n",
      "99999 [array([[-0.99990505,  2.3998647 ,  1.1999323 ]], dtype=float32)]\n"
     ]
    }
   ],
   "source": [
    "x_data = np.array([[4,2,1],[3,2,1]])\n",
    "y_data = np.array([[2,3]])\n",
    "\n",
    "with tf.Graph().as_default():\n",
    "    x = tf.placeholder(tf.float32, shape=[None,3])\n",
    "    y = tf.placeholder(tf.float32, shape=None)\n",
    "    \n",
    "    w = tf.Variable([[0,0,0]], dtype=tf.float32, name='weight')\n",
    "#     b = tf.Variable(0, dtype=tf.float32, name='bias')\n",
    "    \n",
    "    y_hat = tf.matmul(w, tf.transpose(x)) #+ b\n",
    "    \n",
    "    loss = tf.reduce_mean(tf.square(y - y_hat))\n",
    "#     cost = tf.Variable(loss, dtype=tf.float32, name='cost')\n",
    "    \n",
    "    optimizer = tf.train.GradientDescentOptimizer(learning_rate=0.005)    # learning rate = 접근 보폭\n",
    "    train = optimizer.minimize(loss)\n",
    "    \n",
    "    init = tf.global_variables_initializer()\n",
    "    with tf.Session() as sess:\n",
    "        sess.run(init)\n",
    "        for step in range(100000):\n",
    "            sess.run(train, feed_dict={x:x_data, y:y_data})\n",
    "            if (step % 5000 == 0):\n",
    "                print(step, sess.run([w]))\n",
    "        print(step, sess.run([w]))"
   ]
  },
  {
   "cell_type": "code",
   "execution_count": 89,
   "metadata": {},
   "outputs": [],
   "source": [
    "import pandas as pd\n",
    "import numpy as np"
   ]
  },
  {
   "cell_type": "code",
   "execution_count": 91,
   "metadata": {},
   "outputs": [
    {
     "name": "stdout",
     "output_type": "stream",
     "text": [
      "1.000000\t0.635975\t4.093119\n",
      "1.000000\t0.552438\t3.804358\n",
      "1.000000\t0.855922\t4.456531\n",
      "1.000000\t0.083386\t3.187049\n",
      "1.000000\t0.975802\t4.506176\n",
      "1.000000\t0.181269\t3.171914\n",
      "1.000000\t0.129156\t3.053996\n",
      "1.000000\t0.605648\t3.974659\n",
      "1.000000\t0.301625\t3.542525\n",
      "1.000000\t0.698805\t4.234199\n",
      "1.000000\t0.226419\t3.405937\n",
      "1.000000\t0.519290\t3.932469\n",
      "1.000000\t0.354424\t3.514051\n",
      "1.000000\t0.118380\t3.105317\n",
      "1.000000\t0.512811\t3.843351\n",
      "1.000000\t0.236795\t3.576074\n",
      "1.000000\t0.353509\t3.544471\n",
      "1.000000\t0.481447\t3.934625\n",
      "1.000000\t0.060509\t3.228226\n",
      "1.000000\t0.174090\t3.300232\n",
      "1.000000\t0.806818\t4.331785\n",
      "1.000000\t0.531462\t3.908166\n",
      "1.000000\t0.853167\t4.386918\n",
      "1.000000\t0.304804\t3.617260\n",
      "1.000000\t0.612021\t4.082411\n",
      "1.000000\t0.620880\t3.949470\n",
      "1.000000\t0.580245\t3.984041\n",
      "1.000000\t0.742443\t4.251907\n",
      "1.000000\t0.110770\t3.115214\n",
      "1.000000\t0.742687\t4.234319\n",
      "1.000000\t0.574390\t3.947544\n",
      "1.000000\t0.986378\t4.532519\n",
      "1.000000\t0.294867\t3.510392\n",
      "1.000000\t0.472125\t3.927832\n",
      "1.000000\t0.872321\t4.631825\n",
      "1.000000\t0.843537\t4.482263\n",
      "1.000000\t0.864577\t4.487656\n",
      "1.000000\t0.341874\t3.486371\n",
      "1.000000\t0.097980\t3.137514\n",
      "1.000000\t0.757874\t4.212660\n",
      "1.000000\t0.877656\t4.506268\n",
      "1.000000\t0.457993\t3.800973\n",
      "1.000000\t0.475341\t3.975979\n",
      "1.000000\t0.848391\t4.494447\n",
      "1.000000\t0.746059\t4.244715\n",
      "1.000000\t0.153462\t3.019251\n",
      "1.000000\t0.694256\t4.277945\n",
      "1.000000\t0.498712\t3.812414\n",
      "1.000000\t0.023580\t3.116973\n",
      "1.000000\t0.976826\t4.617363\n",
      "1.000000\t0.624004\t4.005158\n",
      "1.000000\t0.472220\t3.874188\n",
      "1.000000\t0.390551\t3.630228\n",
      "1.000000\t0.021349\t3.145849\n",
      "1.000000\t0.173488\t3.192618\n",
      "1.000000\t0.971028\t4.540226\n",
      "1.000000\t0.595302\t3.835879\n",
      "1.000000\t0.097638\t3.141948\n",
      "1.000000\t0.745972\t4.323316\n",
      "1.000000\t0.676390\t4.204829\n",
      "1.000000\t0.488949\t3.946710\n",
      "1.000000\t0.982873\t4.666332\n",
      "1.000000\t0.296060\t3.482348\n",
      "1.000000\t0.228008\t3.451286\n",
      "1.000000\t0.671059\t4.186388\n",
      "1.000000\t0.379419\t3.595223\n",
      "1.000000\t0.285170\t3.534446\n",
      "1.000000\t0.236314\t3.420891\n",
      "1.000000\t0.629803\t4.115553\n",
      "1.000000\t0.770272\t4.257463\n",
      "1.000000\t0.493052\t3.934798\n",
      "1.000000\t0.631592\t4.154963\n",
      "1.000000\t0.965676\t4.587470\n",
      "1.000000\t0.598675\t3.944766\n",
      "1.000000\t0.351997\t3.480517\n",
      "1.000000\t0.342001\t3.481382\n",
      "1.000000\t0.661424\t4.253286\n",
      "1.000000\t0.140912\t3.131670\n",
      "1.000000\t0.373574\t3.527099\n",
      "1.000000\t0.223166\t3.378051\n",
      "1.000000\t0.908785\t4.578960\n",
      "1.000000\t0.915102\t4.551773\n",
      "1.000000\t0.410940\t3.634259\n",
      "1.000000\t0.754921\t4.167016\n",
      "1.000000\t0.764453\t4.217570\n",
      "1.000000\t0.101534\t3.237201\n",
      "1.000000\t0.780368\t4.353163\n",
      "1.000000\t0.819868\t4.342184\n",
      "1.000000\t0.173990\t3.236950\n",
      "1.000000\t0.330472\t3.509404\n",
      "1.000000\t0.162656\t3.242535\n",
      "1.000000\t0.476283\t3.907937\n",
      "1.000000\t0.636391\t4.108455\n",
      "1.000000\t0.758737\t4.181959\n",
      "1.000000\t0.778372\t4.251103\n",
      "1.000000\t0.936287\t4.538462\n",
      "1.000000\t0.510904\t3.848193\n",
      "1.000000\t0.515737\t3.974757\n",
      "1.000000\t0.437823\t3.708323\n",
      "1.000000\t0.828607\t4.385210\n",
      "1.000000\t0.556100\t3.927788\n",
      "1.000000\t0.038209\t3.187881\n",
      "1.000000\t0.321993\t3.444542\n",
      "1.000000\t0.067288\t3.199263\n",
      "1.000000\t0.774989\t4.285745\n",
      "1.000000\t0.566077\t3.878557\n",
      "1.000000\t0.796314\t4.155745\n",
      "1.000000\t0.746600\t4.197772\n",
      "1.000000\t0.360778\t3.524928\n",
      "1.000000\t0.397321\t3.525692\n",
      "1.000000\t0.062142\t3.211318\n",
      "1.000000\t0.379250\t3.570495\n",
      "1.000000\t0.248238\t3.462431\n",
      "1.000000\t0.682561\t4.206177\n",
      "1.000000\t0.355393\t3.562322\n",
      "1.000000\t0.889051\t4.595215\n",
      "1.000000\t0.733806\t4.182694\n",
      "1.000000\t0.153949\t3.320695\n",
      "1.000000\t0.036104\t3.122670\n",
      "1.000000\t0.388577\t3.541312\n",
      "1.000000\t0.274481\t3.502135\n",
      "1.000000\t0.319401\t3.537559\n",
      "1.000000\t0.431653\t3.712609\n",
      "1.000000\t0.960398\t4.504875\n",
      "1.000000\t0.083660\t3.262164\n",
      "1.000000\t0.122098\t3.105583\n",
      "1.000000\t0.415299\t3.742634\n",
      "1.000000\t0.854192\t4.566589\n",
      "1.000000\t0.925574\t4.630884\n",
      "1.000000\t0.109306\t3.190539\n",
      "1.000000\t0.805161\t4.289105\n",
      "1.000000\t0.344474\t3.406602\n",
      "1.000000\t0.769116\t4.251899\n",
      "1.000000\t0.182003\t3.183214\n",
      "1.000000\t0.225972\t3.342508\n",
      "1.000000\t0.413088\t3.747926\n",
      "1.000000\t0.964444\t4.499998\n",
      "1.000000\t0.203334\t3.350089\n",
      "1.000000\t0.285574\t3.539554\n",
      "1.000000\t0.850209\t4.443465\n",
      "1.000000\t0.061561\t3.290370\n",
      "1.000000\t0.426935\t3.733302\n",
      "1.000000\t0.389376\t3.614803\n",
      "1.000000\t0.096918\t3.175132\n",
      "1.000000\t0.148938\t3.164284\n",
      "1.000000\t0.893738\t4.619629\n",
      "1.000000\t0.195527\t3.426648\n",
      "1.000000\t0.407248\t3.670722\n",
      "1.000000\t0.224357\t3.412571\n",
      "1.000000\t0.045963\t3.110330\n",
      "1.000000\t0.944647\t4.647928\n",
      "1.000000\t0.756552\t4.164515\n",
      "1.000000\t0.432098\t3.730603\n",
      "1.000000\t0.990511\t4.609868\n",
      "1.000000\t0.649699\t4.094111\n",
      "1.000000\t0.584879\t3.907636\n",
      "1.000000\t0.785934\t4.240814\n",
      "1.000000\t0.029945\t3.106915\n",
      "1.000000\t0.075747\t3.201181\n",
      "1.000000\t0.408408\t3.872302\n",
      "1.000000\t0.583851\t3.860890\n",
      "1.000000\t0.497759\t3.884108\n",
      "1.000000\t0.421301\t3.696816\n",
      "1.000000\t0.140320\t3.114540\n",
      "1.000000\t0.546465\t3.791233\n",
      "1.000000\t0.843181\t4.443487\n",
      "1.000000\t0.295390\t3.535337\n",
      "1.000000\t0.825059\t4.417975\n",
      "1.000000\t0.946343\t4.742471\n",
      "1.000000\t0.350404\t3.470964\n",
      "1.000000\t0.042787\t3.113381\n",
      "1.000000\t0.352487\t3.594600\n",
      "1.000000\t0.590736\t3.914875\n",
      "1.000000\t0.120748\t3.108492\n",
      "1.000000\t0.143140\t3.152725\n",
      "1.000000\t0.511926\t3.994118\n",
      "1.000000\t0.496358\t3.933417\n",
      "1.000000\t0.382802\t3.510829\n",
      "1.000000\t0.252464\t3.498402\n",
      "1.000000\t0.845894\t4.460441\n",
      "1.000000\t0.132023\t3.245277\n",
      "1.000000\t0.442301\t3.771067\n",
      "1.000000\t0.266889\t3.434771\n",
      "1.000000\t0.008575\t2.999612\n",
      "1.000000\t0.897632\t4.454221\n",
      "1.000000\t0.533171\t3.985348\n",
      "1.000000\t0.285243\t3.557982\n",
      "1.000000\t0.377258\t3.625972\n",
      "1.000000\t0.486995\t3.922226\n",
      "1.000000\t0.305993\t3.547421\n",
      "1.000000\t0.277528\t3.580944\n",
      "1.000000\t0.750899\t4.268081\n",
      "1.000000\t0.694756\t4.278096\n",
      "1.000000\t0.870158\t4.517640\n",
      "1.000000\t0.276457\t3.555461\n",
      "1.000000\t0.017761\t3.055026\n",
      "1.000000\t0.802046\t4.354819\n",
      "1.000000\t0.559275\t3.894387\n",
      "1.000000\t0.941305\t4.597773\n",
      "1.000000\t0.856877\t4.523616\n",
      "\n"
     ]
    }
   ],
   "source": [
    "with open('ex1.txt') as data:\n",
    "    contents = data.read()\n",
    "    print(contents)"
   ]
  },
  {
   "cell_type": "markdown",
   "metadata": {},
   "source": []
  },
  {
   "cell_type": "code",
   "execution_count": null,
   "metadata": {},
   "outputs": [],
   "source": []
  }
 ],
 "metadata": {
  "kernelspec": {
   "display_name": "Tensorflow",
   "language": "python",
   "name": "tensorflow"
  },
  "language_info": {
   "codemirror_mode": {
    "name": "ipython",
    "version": 3
   },
   "file_extension": ".py",
   "mimetype": "text/x-python",
   "name": "python",
   "nbconvert_exporter": "python",
   "pygments_lexer": "ipython3",
   "version": "3.7.6"
  }
 },
 "nbformat": 4,
 "nbformat_minor": 4
}
