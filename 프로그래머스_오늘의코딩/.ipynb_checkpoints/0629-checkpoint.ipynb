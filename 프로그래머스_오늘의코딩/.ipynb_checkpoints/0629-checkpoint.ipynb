{
 "cells": [
  {
   "cell_type": "code",
   "execution_count": 1,
   "metadata": {},
   "outputs": [],
   "source": [
    "# 한자리 숫자가 적힌 종이조각\n",
    "\n",
    "# 길리 1~7\n",
    "# 숫자 0~9\n",
    "\n",
    "# 1,7 :7, 17, 71\n",
    "\n",
    "# 011 : 11, 101\n",
    "\n",
    "# 1)숫자 조합하기\n",
    "# 2)prime 찾기\n",
    "\n",
    "# numbers: string\n",
    "\n"
   ]
  },
  {
   "cell_type": "code",
   "execution_count": 4,
   "metadata": {},
   "outputs": [],
   "source": [
    "numbers = \"17\"\n",
    "numbers_1 = \"011\""
   ]
  },
  {
   "cell_type": "code",
   "execution_count": 6,
   "metadata": {},
   "outputs": [],
   "source": [
    "# from itertools import combinations\n",
    "from itertools import permutations\n"
   ]
  },
  {
   "cell_type": "code",
   "execution_count": null,
   "metadata": {},
   "outputs": [],
   "source": []
  },
  {
   "cell_type": "code",
   "execution_count": 64,
   "metadata": {},
   "outputs": [
    {
     "name": "stdout",
     "output_type": "stream",
     "text": [
      "[{('1',), ('7',)}, {('1', '7'), ('7', '1')}]\n",
      "[1, 7, 17, 71]\n"
     ]
    }
   ],
   "source": [
    "\n",
    "lst = list(numbers)\n",
    "num_lst = []\n",
    "\n",
    "\n",
    "    \n",
    "for length in range(1,len(lst)+1) :\n",
    "    #set - reduce redundancy\n",
    "    num_lst.append(set(list(permutations(lst,length))))\n",
    "\n",
    "    \n",
    "\n",
    "nums = []\n",
    "print(num_lst)\n",
    "for i in num_lst:\n",
    "    for j in i:\n",
    "        string =\"\"\n",
    "        for k in j:\n",
    "            string = string + str(k)\n",
    "        nums.append(int(string))\n",
    "\n",
    "print(nums)"
   ]
  },
  {
   "cell_type": "code",
   "execution_count": null,
   "metadata": {},
   "outputs": [],
   "source": []
  },
  {
   "cell_type": "code",
   "execution_count": 45,
   "metadata": {},
   "outputs": [],
   "source": [
    "def prime_number(number):\n",
    "    if number<2:\n",
    "        return 0\n",
    "    elif number%2 == 0:\n",
    "        return 0\n",
    "    \n",
    "    else:\n",
    "        for n in range(3,number-1):\n",
    "            if number%n == 0:\n",
    "                return 0\n",
    "        return 1"
   ]
  },
  {
   "cell_type": "code",
   "execution_count": 62,
   "metadata": {},
   "outputs": [
    {
     "name": "stdout",
     "output_type": "stream",
     "text": [
      "17\n"
     ]
    }
   ],
   "source": [
    "tp = \"0017\"\n",
    "print(int(tp))"
   ]
  },
  {
   "cell_type": "code",
   "execution_count": 65,
   "metadata": {},
   "outputs": [
    {
     "name": "stdout",
     "output_type": "stream",
     "text": [
      "3\n"
     ]
    }
   ],
   "source": [
    "answer=0\n",
    "for p in nums:\n",
    "    answer=answer + prime_number(p)\n",
    "print(answer)"
   ]
  },
  {
   "cell_type": "code",
   "execution_count": null,
   "metadata": {},
   "outputs": [],
   "source": []
  }
 ],
 "metadata": {
  "kernelspec": {
   "display_name": "Python 3",
   "language": "python",
   "name": "python3"
  },
  "language_info": {
   "codemirror_mode": {
    "name": "ipython",
    "version": 3
   },
   "file_extension": ".py",
   "mimetype": "text/x-python",
   "name": "python",
   "nbconvert_exporter": "python",
   "pygments_lexer": "ipython3",
   "version": "3.7.6"
  }
 },
 "nbformat": 4,
 "nbformat_minor": 4
}
