{
 "cells": [
  {
   "cell_type": "code",
   "execution_count": 55,
   "metadata": {},
   "outputs": [],
   "source": [
    "from selenium import webdriver\n",
    "from selenium.webdriver.common.keys import Keys \n",
    "from bs4 import BeautifulSoup\n",
    "from urllib.request import urlopen\n",
    "# import pandas as pd\n",
    "import pyautogui\n",
    "import requests\n",
    "\n",
    "\n",
    "\n",
    "def title_link():\n",
    "    \n",
    "    keyword = input(\"키워드를 입력하세요 : \")\n",
    "\n",
    "    driver = webdriver.Chrome(\"./chromedriver.exe\")\n",
    "    driver.implicitly_wait(1)\n",
    "    \n",
    "    url = \"https://m.search.naver.com/search.naver?sm=mtb_hty.top&where=m_news\"\n",
    "    \n",
    "    driver.get(url)\n",
    "    search_box = driver.find_element_by_id(\"nx_query\")\n",
    "    search_box.send_keys(keyword)\n",
    "    pyautogui.press('enter')\n",
    "    \n",
    "    titles = driver.find_element_by_class_name('list_news') #전체 페이지\n",
    "    title = titles.find_elements_by_class_name('news_wrap') #뉴스 별로\n",
    "\n",
    "    \n",
    "    html = driver.page_source #옮긴 페이지 가져오고\n",
    "    bs = BeautifulSoup(html,'html.parser') #문서파싱 ; in for loop-page마다 파싱이 이뤄져야함\n",
    "\n",
    "    div = bs.find(\"div\", {\"class\":\"group_news\"})\n",
    "    divList = div.findAll(\"div\",{\"class\" : \"news_wrap\"} )\n",
    "    \n",
    "    titles_links = {}\n",
    "#     strings=[]\n",
    "#     links=[]\n",
    "    for di in divList:\n",
    "#         strings.append(di.find(\"a\",{\"class\":\"news_tit\"}))\n",
    "#         string = str(strings[1])\n",
    "        string = str(di.find(\"a\",{\"class\":\"news_tit\"}))\n",
    "#         print(\"string:\", string)\n",
    "        link = string[string.find(\"https\"):string.find(\"onclick\")]\n",
    "        link = link.replace('amp;','')\n",
    "        link = link[0:-2]\n",
    "        \n",
    "        title = string[string.find(keyword):string.find(\"</div> </a>\")]\n",
    "        title = title.replace(\"</b>\",\"\")\n",
    "        \n",
    "        titles_links[title]=link\n",
    "    return titles_links\n",
    "\n",
    "\n",
    "\n"
   ]
  },
  {
   "cell_type": "code",
   "execution_count": 56,
   "metadata": {},
   "outputs": [
    {
     "name": "stdout",
     "output_type": "stream",
     "text": [
      "키워드를 입력하세요 : 개\n"
     ]
    }
   ],
   "source": [
    "title = title_link()"
   ]
  },
  {
   "cell_type": "code",
   "execution_count": 57,
   "metadata": {},
   "outputs": [
    {
     "name": "stdout",
     "output_type": "stream",
     "text": [
      "{\"개는 훌륭하다' 강형욱, 보호자 앞에서 무릎 꿇은 사연은?\": 'https://m.news.naver.com/read.nhn?mode=LSD&mid=sec&sid1=103&oid=421&aid=0004710394', \"개에 물렸을 때 발생한다는 '파상풍' 증상 아세요?\": 'https://m.news.naver.com/read.nhn?mode=LSD&mid=sec&sid1=103&oid=346&aid=0000032648', '개 사육장 화재로 <b class=\"hl\">개 120여마리 죽어': 'https://m.news.naver.com/read.nhn?mode=LSD&mid=sec&sid1=102&oid=366&aid=0000542994', '개는 훌륭하다\\' 강형욱, 보더콜리 보호자와 대립 \"동거 절대 불가\"': 'https://m.news.naver.com/read.nhn?mode=LSD&mid=sec&sid1=106&oid=052&aid=0001455893', '개인형 IRP 적립금 2조원 돌파…증권업 최초': 'https://m.news.naver.com/read.nhn?mode=LSD&mid=sec&sid1=101&oid=215&aid=0000880689', '개는훌륭하다’ 강형욱, 보더콜리 견주에 무릎 꿇고 입양 권유 왜?': 'https://m.news.naver.com/read.nhn?mode=LSD&mid=sec&sid1=106&oid=144&aid=0000677670', '개 잘 키우는 사회 만들기가 목표다\" [화보]': 'https://m.news.naver.com/read.nhn?mode=LSD&mid=sec&sid1=106&oid=076&aid=0003588328', '개와 고양이의 시간’, 23일 오후 1시 1차 티켓 오픈': 'https://m.news.naver.com/read.nhn?mode=LSD&mid=sec&sid1=106&oid=382&aid=0000832290', '개**\" 욕설까지': 'https://m.news.naver.com/read.nhn?mode=LSD&mid=sec&sid1=104&oid=079&aid=0003374904', '개는 훌륭하다] 천사같은 반려견과 함께 등장한 오늘의 견학생~ 배우 유이와 남이안': 'https://m.news.naver.com/read.nhn?mode=LSD&mid=sec&sid1=106&oid=438&aid=0000029153', '개 조심하세요\" 주민·관광객 위협…물림사고도': 'https://m.news.naver.com/read.nhn?mode=LSD&mid=sec&sid1=102&oid=001&aid=0011696438', '개 물림 사고': '', '개훌륭’ <b class=\"hl\">개 키울 자격에 대하여 [TV와치]': 'https://m.news.naver.com/read.nhn?mode=LSD&mid=sec&sid1=106&oid=609&aid=0000292624', '개는 훌륭하다] 단절 됐던 모녀사이를 다시 이어준 소중한 존재 ‘코비’': 'https://m.news.naver.com/read.nhn?mode=LSD&mid=sec&sid1=106&oid=438&aid=0000029155', '개·폐회식 생략': ''}\n"
     ]
    }
   ],
   "source": [
    "print(title)"
   ]
  },
  {
   "cell_type": "code",
   "execution_count": 32,
   "metadata": {},
   "outputs": [
    {
     "name": "stdout",
     "output_type": "stream",
     "text": [
      "text\n"
     ]
    }
   ],
   "source": []
  },
  {
   "cell_type": "code",
   "execution_count": 12,
   "metadata": {},
   "outputs": [],
   "source": [
    "def parsing(title):\n",
    "    \n",
    "    dic = {} #title \n",
    "    #기사 클릭\n",
    "    #tit.find_element_by_class_name('news_tit').click()\n",
    "    import time\n",
    "\n",
    "#     for i in range(1,4):\n",
    "#         s = \"pageCallback({},''); return false;\".format(i)\n",
    "#         time.sleep(2) #초단위\n",
    "#         driver.execute_script(s) #페이지 옮겼고\n",
    "    html = driver.page_source #옮긴 페이지 가져오고\n",
    "    bs = BeautifulSoup(html,'html.parser') #문서파싱 ; in for loop-page마다 파싱이 이뤄져야\n",
    "    tags= bs.findAll('a',{'class':'_sp_each_title'})\n",
    "    # dict 형식으로 dict= {title : link} 로 저장하여 \n",
    "    for tag in tags:\n",
    "        dic[tag.text] = tag\n",
    " \n",
    "    print(dic) #기사 제목, 링크 담긴 dictionary\n",
    "    return "
   ]
  },
  {
   "cell_type": "code",
   "execution_count": 13,
   "metadata": {},
   "outputs": [
    {
     "ename": "WebDriverException",
     "evalue": "Message: chrome not reachable\n  (Session info: chrome=83.0.4103.106)\n",
     "output_type": "error",
     "traceback": [
      "\u001b[1;31m---------------------------------------------------------------------------\u001b[0m",
      "\u001b[1;31mWebDriverException\u001b[0m                        Traceback (most recent call last)",
      "\u001b[1;32m<ipython-input-13-fd2f088b6d35>\u001b[0m in \u001b[0;36m<module>\u001b[1;34m\u001b[0m\n\u001b[1;32m----> 1\u001b[1;33m \u001b[0mparsing\u001b[0m\u001b[1;33m(\u001b[0m\u001b[0mtitle\u001b[0m\u001b[1;33m)\u001b[0m\u001b[1;33m\u001b[0m\u001b[1;33m\u001b[0m\u001b[0m\n\u001b[0m",
      "\u001b[1;32m<ipython-input-12-bd3f79d8c9e0>\u001b[0m in \u001b[0;36mparsing\u001b[1;34m(title)\u001b[0m\n\u001b[0;32m     10\u001b[0m \u001b[1;31m#         time.sleep(2) #초단위\u001b[0m\u001b[1;33m\u001b[0m\u001b[1;33m\u001b[0m\u001b[1;33m\u001b[0m\u001b[0m\n\u001b[0;32m     11\u001b[0m \u001b[1;31m#         driver.execute_script(s) #페이지 옮겼고\u001b[0m\u001b[1;33m\u001b[0m\u001b[1;33m\u001b[0m\u001b[1;33m\u001b[0m\u001b[0m\n\u001b[1;32m---> 12\u001b[1;33m     \u001b[0mhtml\u001b[0m \u001b[1;33m=\u001b[0m \u001b[0mdriver\u001b[0m\u001b[1;33m.\u001b[0m\u001b[0mpage_source\u001b[0m \u001b[1;31m#옮긴 페이지 가져오고\u001b[0m\u001b[1;33m\u001b[0m\u001b[1;33m\u001b[0m\u001b[0m\n\u001b[0m\u001b[0;32m     13\u001b[0m     \u001b[0mbs\u001b[0m \u001b[1;33m=\u001b[0m \u001b[0mBeautifulSoup\u001b[0m\u001b[1;33m(\u001b[0m\u001b[0mhtml\u001b[0m\u001b[1;33m,\u001b[0m\u001b[1;34m'html.parser'\u001b[0m\u001b[1;33m)\u001b[0m \u001b[1;31m#문서파싱 ; in for loop-page마다 파싱이 이뤄져야\u001b[0m\u001b[1;33m\u001b[0m\u001b[1;33m\u001b[0m\u001b[0m\n\u001b[0;32m     14\u001b[0m     \u001b[0mtags\u001b[0m\u001b[1;33m=\u001b[0m \u001b[0mbs\u001b[0m\u001b[1;33m.\u001b[0m\u001b[0mfindAll\u001b[0m\u001b[1;33m(\u001b[0m\u001b[1;34m'a'\u001b[0m\u001b[1;33m,\u001b[0m\u001b[1;33m{\u001b[0m\u001b[1;34m'class'\u001b[0m\u001b[1;33m:\u001b[0m\u001b[1;34m'_sp_each_title'\u001b[0m\u001b[1;33m}\u001b[0m\u001b[1;33m)\u001b[0m\u001b[1;33m\u001b[0m\u001b[1;33m\u001b[0m\u001b[0m\n",
      "\u001b[1;32m~\\anaconda3\\lib\\site-packages\\selenium\\webdriver\\remote\\webdriver.py\u001b[0m in \u001b[0;36mpage_source\u001b[1;34m(self)\u001b[0m\n\u001b[0;32m    677\u001b[0m             \u001b[0mdriver\u001b[0m\u001b[1;33m.\u001b[0m\u001b[0mpage_source\u001b[0m\u001b[1;33m\u001b[0m\u001b[1;33m\u001b[0m\u001b[0m\n\u001b[0;32m    678\u001b[0m         \"\"\"\n\u001b[1;32m--> 679\u001b[1;33m         \u001b[1;32mreturn\u001b[0m \u001b[0mself\u001b[0m\u001b[1;33m.\u001b[0m\u001b[0mexecute\u001b[0m\u001b[1;33m(\u001b[0m\u001b[0mCommand\u001b[0m\u001b[1;33m.\u001b[0m\u001b[0mGET_PAGE_SOURCE\u001b[0m\u001b[1;33m)\u001b[0m\u001b[1;33m[\u001b[0m\u001b[1;34m'value'\u001b[0m\u001b[1;33m]\u001b[0m\u001b[1;33m\u001b[0m\u001b[1;33m\u001b[0m\u001b[0m\n\u001b[0m\u001b[0;32m    680\u001b[0m \u001b[1;33m\u001b[0m\u001b[0m\n\u001b[0;32m    681\u001b[0m     \u001b[1;32mdef\u001b[0m \u001b[0mclose\u001b[0m\u001b[1;33m(\u001b[0m\u001b[0mself\u001b[0m\u001b[1;33m)\u001b[0m\u001b[1;33m:\u001b[0m\u001b[1;33m\u001b[0m\u001b[1;33m\u001b[0m\u001b[0m\n",
      "\u001b[1;32m~\\anaconda3\\lib\\site-packages\\selenium\\webdriver\\remote\\webdriver.py\u001b[0m in \u001b[0;36mexecute\u001b[1;34m(self, driver_command, params)\u001b[0m\n\u001b[0;32m    319\u001b[0m         \u001b[0mresponse\u001b[0m \u001b[1;33m=\u001b[0m \u001b[0mself\u001b[0m\u001b[1;33m.\u001b[0m\u001b[0mcommand_executor\u001b[0m\u001b[1;33m.\u001b[0m\u001b[0mexecute\u001b[0m\u001b[1;33m(\u001b[0m\u001b[0mdriver_command\u001b[0m\u001b[1;33m,\u001b[0m \u001b[0mparams\u001b[0m\u001b[1;33m)\u001b[0m\u001b[1;33m\u001b[0m\u001b[1;33m\u001b[0m\u001b[0m\n\u001b[0;32m    320\u001b[0m         \u001b[1;32mif\u001b[0m \u001b[0mresponse\u001b[0m\u001b[1;33m:\u001b[0m\u001b[1;33m\u001b[0m\u001b[1;33m\u001b[0m\u001b[0m\n\u001b[1;32m--> 321\u001b[1;33m             \u001b[0mself\u001b[0m\u001b[1;33m.\u001b[0m\u001b[0merror_handler\u001b[0m\u001b[1;33m.\u001b[0m\u001b[0mcheck_response\u001b[0m\u001b[1;33m(\u001b[0m\u001b[0mresponse\u001b[0m\u001b[1;33m)\u001b[0m\u001b[1;33m\u001b[0m\u001b[1;33m\u001b[0m\u001b[0m\n\u001b[0m\u001b[0;32m    322\u001b[0m             response['value'] = self._unwrap_value(\n\u001b[0;32m    323\u001b[0m                 response.get('value', None))\n",
      "\u001b[1;32m~\\anaconda3\\lib\\site-packages\\selenium\\webdriver\\remote\\errorhandler.py\u001b[0m in \u001b[0;36mcheck_response\u001b[1;34m(self, response)\u001b[0m\n\u001b[0;32m    240\u001b[0m                 \u001b[0malert_text\u001b[0m \u001b[1;33m=\u001b[0m \u001b[0mvalue\u001b[0m\u001b[1;33m[\u001b[0m\u001b[1;34m'alert'\u001b[0m\u001b[1;33m]\u001b[0m\u001b[1;33m.\u001b[0m\u001b[0mget\u001b[0m\u001b[1;33m(\u001b[0m\u001b[1;34m'text'\u001b[0m\u001b[1;33m)\u001b[0m\u001b[1;33m\u001b[0m\u001b[1;33m\u001b[0m\u001b[0m\n\u001b[0;32m    241\u001b[0m             \u001b[1;32mraise\u001b[0m \u001b[0mexception_class\u001b[0m\u001b[1;33m(\u001b[0m\u001b[0mmessage\u001b[0m\u001b[1;33m,\u001b[0m \u001b[0mscreen\u001b[0m\u001b[1;33m,\u001b[0m \u001b[0mstacktrace\u001b[0m\u001b[1;33m,\u001b[0m \u001b[0malert_text\u001b[0m\u001b[1;33m)\u001b[0m\u001b[1;33m\u001b[0m\u001b[1;33m\u001b[0m\u001b[0m\n\u001b[1;32m--> 242\u001b[1;33m         \u001b[1;32mraise\u001b[0m \u001b[0mexception_class\u001b[0m\u001b[1;33m(\u001b[0m\u001b[0mmessage\u001b[0m\u001b[1;33m,\u001b[0m \u001b[0mscreen\u001b[0m\u001b[1;33m,\u001b[0m \u001b[0mstacktrace\u001b[0m\u001b[1;33m)\u001b[0m\u001b[1;33m\u001b[0m\u001b[1;33m\u001b[0m\u001b[0m\n\u001b[0m\u001b[0;32m    243\u001b[0m \u001b[1;33m\u001b[0m\u001b[0m\n\u001b[0;32m    244\u001b[0m     \u001b[1;32mdef\u001b[0m \u001b[0m_value_or_default\u001b[0m\u001b[1;33m(\u001b[0m\u001b[0mself\u001b[0m\u001b[1;33m,\u001b[0m \u001b[0mobj\u001b[0m\u001b[1;33m,\u001b[0m \u001b[0mkey\u001b[0m\u001b[1;33m,\u001b[0m \u001b[0mdefault\u001b[0m\u001b[1;33m)\u001b[0m\u001b[1;33m:\u001b[0m\u001b[1;33m\u001b[0m\u001b[1;33m\u001b[0m\u001b[0m\n",
      "\u001b[1;31mWebDriverException\u001b[0m: Message: chrome not reachable\n  (Session info: chrome=83.0.4103.106)\n"
     ]
    }
   ],
   "source": [
    "parsing(title)"
   ]
  }
 ],
 "metadata": {
  "kernelspec": {
   "display_name": "Python 3",
   "language": "python",
   "name": "python3"
  },
  "language_info": {
   "codemirror_mode": {
    "name": "ipython",
    "version": 3
   },
   "file_extension": ".py",
   "mimetype": "text/x-python",
   "name": "python",
   "nbconvert_exporter": "python",
   "pygments_lexer": "ipython3",
   "version": "3.7.6"
  }
 },
 "nbformat": 4,
 "nbformat_minor": 4
}
