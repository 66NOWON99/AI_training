{
 "cells": [
  {
   "cell_type": "code",
   "execution_count": 5,
   "metadata": {},
   "outputs": [],
   "source": [
    "from selenium import webdriver\n",
    "from selenium.webdriver.common.keys import Keys \n",
    "from bs4 import BeautifulSoup\n",
    "from urllib.request import urlopen\n",
    "# import pandas as pd\n",
    "import pyautogui\n",
    "import requests\n",
    "\n",
    "\n",
    "\n",
    "def title_link():\n",
    "    \n",
    "    keyword = input(\"키워드를 입력하세요 : \")\n",
    "\n",
    "    driver = webdriver.Chrome(\"./chromedriver.exe\")\n",
    "    driver.implicitly_wait(1)\n",
    "    \n",
    "    url = \"https://m.search.naver.com/search.naver?sm=mtb_hty.top&where=m_news\"\n",
    "    \n",
    "    driver.get(url)\n",
    "    search_box = driver.find_element_by_id(\"nx_query\")\n",
    "    search_box.send_keys(keyword)\n",
    "    pyautogui.press('enter')\n",
    "    \n",
    "#     titles = driver.find_element_by_class_name('list_news') #전체 페이지\n",
    "#     title = titles.find_elements_by_class_name('news_wrap') #뉴스 별로\n",
    "\n",
    "    \n",
    "    html = driver.page_source #옮긴 페이지 가져오고\n",
    "    bs = BeautifulSoup(html,'html.parser') #문서파싱 ; in for loop-page마다 파싱이 이뤄져야함\n",
    "\n",
    "    div = bs.find(\"div\", {\"class\":\"group_news\"})\n",
    "    divList = div.findAll(\"div\",{\"class\" : \"news_wrap\"} )\n",
    "    \n",
    "    titles_links = {}\n",
    "#     strings=[]\n",
    "#     links=[]\n",
    "    for di in divList:\n",
    "#         strings.append(di.find(\"a\",{\"class\":\"news_tit\"}))\n",
    "#         string = str(strings[1])\n",
    "        string = str(di.find(\"a\",{\"class\":\"news_tit\"}))\n",
    "#         print(\"string:\", string)\n",
    "        link = string[string.find(\"https\"):string.find(\"onclick\")]\n",
    "        link = link.replace('amp;','')\n",
    "        link = link[0:-2]\n",
    "        \n",
    "        title = string[string.find(keyword):string.find(\"</div> </a>\")]\n",
    "        title = title.replace(\"</b>\",\"\")\n",
    "        \n",
    "        titles_links[title]=link\n",
    "    return titles_links\n",
    "\n",
    "\n",
    "\n"
   ]
  },
  {
   "cell_type": "code",
   "execution_count": 6,
   "metadata": {},
   "outputs": [
    {
     "name": "stdout",
     "output_type": "stream",
     "text": [
      "키워드를 입력하세요 : 개\n"
     ]
    }
   ],
   "source": [
    "title = title_link()"
   ]
  },
  {
   "cell_type": "code",
   "execution_count": 7,
   "metadata": {},
   "outputs": [
    {
     "data": {
      "text/plain": [
       "{\"개는 훌륭하다' 강형욱, 보호자 앞에서 무릎 꿇은 사연은?\": 'https://m.news.naver.com/read.nhn?mode=LSD&mid=sec&sid1=103&oid=421&aid=0004710394',\n",
       " \"개에 물렸을 때 발생한다는 '파상풍' 증상 아세요?\": 'https://m.news.naver.com/read.nhn?mode=LSD&mid=sec&sid1=103&oid=346&aid=0000032648',\n",
       " '개 사육장 화재로 <b class=\"hl\">개 120여마리 죽어': 'https://m.news.naver.com/read.nhn?mode=LSD&mid=sec&sid1=102&oid=366&aid=0000542994',\n",
       " '개는 훌륭하다\\' 강형욱, 보더콜리 보호자와 대립 \"동거 절대 불가\"': 'https://m.news.naver.com/read.nhn?mode=LSD&mid=sec&sid1=106&oid=052&aid=0001455893',\n",
       " '개인형 IRP 적립금 2조원 돌파…증권업 최초': 'https://m.news.naver.com/read.nhn?mode=LSD&mid=sec&sid1=101&oid=215&aid=0000880689',\n",
       " '개는훌륭하다’ 강형욱, 보더콜리 견주에 무릎 꿇고 입양 권유 왜?': 'https://m.news.naver.com/read.nhn?mode=LSD&mid=sec&sid1=106&oid=144&aid=0000677670',\n",
       " '개 잘 키우는 사회 만들기가 목표다\" [화보]': 'https://m.news.naver.com/read.nhn?mode=LSD&mid=sec&sid1=106&oid=076&aid=0003588328',\n",
       " '개와 고양이의 시간’, 23일 오후 1시 1차 티켓 오픈': 'https://m.news.naver.com/read.nhn?mode=LSD&mid=sec&sid1=106&oid=382&aid=0000832290',\n",
       " '개**\" 욕설까지': 'https://m.news.naver.com/read.nhn?mode=LSD&mid=sec&sid1=104&oid=079&aid=0003374904',\n",
       " '개는 훌륭하다] 천사같은 반려견과 함께 등장한 오늘의 견학생~ 배우 유이와 남이안': 'https://m.news.naver.com/read.nhn?mode=LSD&mid=sec&sid1=106&oid=438&aid=0000029153',\n",
       " '개 조심하세요\" 주민·관광객 위협…물림사고도': 'https://m.news.naver.com/read.nhn?mode=LSD&mid=sec&sid1=102&oid=001&aid=0011696438',\n",
       " '개 물림 사고': '',\n",
       " '개훌륭’ <b class=\"hl\">개 키울 자격에 대하여 [TV와치]': 'https://m.news.naver.com/read.nhn?mode=LSD&mid=sec&sid1=106&oid=609&aid=0000292624',\n",
       " '개는 훌륭하다] 단절 됐던 모녀사이를 다시 이어준 소중한 존재 ‘코비’': 'https://m.news.naver.com/read.nhn?mode=LSD&mid=sec&sid1=106&oid=438&aid=0000029155',\n",
       " '개·폐회식 생략': ''}"
      ]
     },
     "execution_count": 7,
     "metadata": {},
     "output_type": "execute_result"
    }
   ],
   "source": [
    "title"
   ]
  },
  {
   "cell_type": "code",
   "execution_count": null,
   "metadata": {},
   "outputs": [],
   "source": []
  }
 ],
 "metadata": {
  "kernelspec": {
   "display_name": "Python 3",
   "language": "python",
   "name": "python3"
  },
  "language_info": {
   "codemirror_mode": {
    "name": "ipython",
    "version": 3
   },
   "file_extension": ".py",
   "mimetype": "text/x-python",
   "name": "python",
   "nbconvert_exporter": "python",
   "pygments_lexer": "ipython3",
   "version": "3.7.6"
  }
 },
 "nbformat": 4,
 "nbformat_minor": 4
}
