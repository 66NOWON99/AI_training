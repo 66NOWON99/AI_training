{
 "cells": [
  {
   "cell_type": "code",
   "execution_count": 10,
   "metadata": {},
   "outputs": [],
   "source": [
    "from selenium import webdriver\n",
    "from selenium.webdriver.common.keys import Keys \n",
    "from bs4 import BeautifulSoup\n",
    "from urllib.request import urlopen\n",
    "# import pandas as pd\n",
    "import pyautogui\n",
    "import requests\n",
    "\n",
    "\n",
    "\n",
    "def search():\n",
    "    \n",
    "    keyword = input(\"키워드를 입력하세요 : \")\n",
    "\n",
    "    driver = webdriver.Chrome(\"./chromedriver.exe\")\n",
    "    driver.implicitly_wait(1)\n",
    "    \n",
    "    url = \"https://m.search.naver.com/search.naver?sm=mtb_hty.top&where=m_news\"\n",
    "    \n",
    "    driver.get(url)\n",
    "    search_box = driver.find_element_by_id(\"nx_query\")\n",
    "    search_box.send_keys(keyword)\n",
    "    pyautogui.press('enter')\n",
    "    \n",
    "    titles = driver.find_element_by_class_name('list_news') #전체 페이지\n",
    "    title = titles.find_elements_by_class_name('news_wrap') #뉴스 별로\n",
    "    return title\n",
    "\n",
    "\n",
    "\n"
   ]
  },
  {
   "cell_type": "code",
   "execution_count": null,
   "metadata": {},
   "outputs": [],
   "source": [
    "# title_link= {title : link}\n",
    "dict = {}\n",
    "\n"
   ]
  },
  {
   "cell_type": "code",
   "execution_count": 8,
   "metadata": {},
   "outputs": [
    {
     "name": "stdout",
     "output_type": "stream",
     "text": [
      "키워드를 입력하세요 : 개\n"
     ]
    }
   ],
   "source": [
    "title = search()"
   ]
  },
  {
   "cell_type": "code",
   "execution_count": 9,
   "metadata": {},
   "outputs": [
    {
     "name": "stdout",
     "output_type": "stream",
     "text": [
      "<selenium.webdriver.remote.webelement.WebElement (session=\"f83defa899bffc836c71fe0b4b4f8c3b\", element=\"35ad1a31-1d98-49b2-8c26-073aeef10f04\")>\n",
      "<selenium.webdriver.remote.webelement.WebElement (session=\"f83defa899bffc836c71fe0b4b4f8c3b\", element=\"767e65f2-5bd4-44f2-974b-8004c2e0fce3\")>\n",
      "<selenium.webdriver.remote.webelement.WebElement (session=\"f83defa899bffc836c71fe0b4b4f8c3b\", element=\"f641fcbe-151a-47cb-9804-8ea6467e8cc1\")>\n",
      "<selenium.webdriver.remote.webelement.WebElement (session=\"f83defa899bffc836c71fe0b4b4f8c3b\", element=\"8de9b67e-66b4-4112-8978-fe437ef9e6da\")>\n",
      "<selenium.webdriver.remote.webelement.WebElement (session=\"f83defa899bffc836c71fe0b4b4f8c3b\", element=\"3b9d8683-d658-4175-a9e1-250353579753\")>\n",
      "<selenium.webdriver.remote.webelement.WebElement (session=\"f83defa899bffc836c71fe0b4b4f8c3b\", element=\"1a5bad57-ef50-4f0d-af88-cac951536439\")>\n",
      "<selenium.webdriver.remote.webelement.WebElement (session=\"f83defa899bffc836c71fe0b4b4f8c3b\", element=\"77c30bab-602c-41af-830e-6e21a729666e\")>\n",
      "<selenium.webdriver.remote.webelement.WebElement (session=\"f83defa899bffc836c71fe0b4b4f8c3b\", element=\"297f832e-40a2-4dd4-95d6-5a8b540eb3c1\")>\n",
      "<selenium.webdriver.remote.webelement.WebElement (session=\"f83defa899bffc836c71fe0b4b4f8c3b\", element=\"dd6d499a-7314-4ee3-88b4-ca54f2644861\")>\n",
      "<selenium.webdriver.remote.webelement.WebElement (session=\"f83defa899bffc836c71fe0b4b4f8c3b\", element=\"46dfe315-d4c6-47f0-a6bf-cfc90cc5e696\")>\n",
      "<selenium.webdriver.remote.webelement.WebElement (session=\"f83defa899bffc836c71fe0b4b4f8c3b\", element=\"fdbef495-dbf7-4d4f-a1cb-7437b0e652a3\")>\n",
      "<selenium.webdriver.remote.webelement.WebElement (session=\"f83defa899bffc836c71fe0b4b4f8c3b\", element=\"54bc7d95-6815-49b1-9cee-dd2ac0f00892\")>\n",
      "<selenium.webdriver.remote.webelement.WebElement (session=\"f83defa899bffc836c71fe0b4b4f8c3b\", element=\"ddbcc6f0-1196-47eb-bb78-a1e36b263829\")>\n",
      "<selenium.webdriver.remote.webelement.WebElement (session=\"f83defa899bffc836c71fe0b4b4f8c3b\", element=\"47251074-409d-4226-b9ff-40fbb783e21a\")>\n",
      "<selenium.webdriver.remote.webelement.WebElement (session=\"f83defa899bffc836c71fe0b4b4f8c3b\", element=\"2a157cca-dbcd-421e-bf18-a13b2981ea3d\")>\n"
     ]
    }
   ],
   "source": [
    "# lst = []\n",
    "# for tit in title: \n",
    "#     txt = tit.text.split('\\n') \n",
    "\n",
    "#     txt = txt[2] #제목만 남기기 \n",
    "#     lst.append(txt) \n",
    "for i in title:\n",
    "    print(i)\n",
    "        #기사 클릭\n",
    "        #tit.find_element_by_class_name('news_tit').click().\n",
    "\n",
    "        \n",
    "#     for target in range: # --> while 문으로\n",
    "#         source = BeautifulSoup(webpage, 'html5lib')\n",
    "#         comments = source.find_all('span', {'class':'desc_review'})\n",
    "#             # 새 탭에서 기사 열기\n",
    "#         target = title.find_element_by_class_name('news_tit')\n",
    "#         target.send_keys(Keys.CONTROL+\"\\n\")\n",
    "#         browser.switch_to.window(browser.window_handles[1])\n",
    "#             # 기사창의 댓글 더보기 클릭 -> 댓글 크롤링\n",
    "#         loading = title.find_element_by_class_name(\"u_cbox_in_view_comment\").click()\n",
    "#         commentList = bsObj.findAll(\"span\",{\"class\":\"u_cbox_contents\"})\n",
    "#         for comment in commentList:\n",
    "#             print(comment.get_text())\n",
    "#             # 기사창 닫고 기사 목록 창으로 돌아가기\n",
    "#         browser.close()\n",
    "#         browser.switch_to.window(browser.window_handles[0])\n",
    "\n",
    "\n",
    "#     driver.get(url)\n",
    "#     webpage = urlopen(url)\n",
    "#     source = BeautifulSoup(webpage, 'html5lib')\n",
    "#     comment = source.find('span', {'class':'u_cbox_contents'})\n",
    "#     print(comment)\n",
    "\n",
    "# for ls in lst:\n",
    "#     print(ls)\n",
    "# print(lst) #제목만 든 리스트\n",
    "# len(lst)\n",
    "# title = search()\n",
    "# # parsing(title)\n"
   ]
  },
  {
   "cell_type": "code",
   "execution_count": null,
   "metadata": {},
   "outputs": [],
   "source": []
  }
 ],
 "metadata": {
  "kernelspec": {
   "display_name": "Python 3",
   "language": "python",
   "name": "python3"
  },
  "language_info": {
   "codemirror_mode": {
    "name": "ipython",
    "version": 3
   },
   "file_extension": ".py",
   "mimetype": "text/x-python",
   "name": "python",
   "nbconvert_exporter": "python",
   "pygments_lexer": "ipython3",
   "version": "3.7.6"
  }
 },
 "nbformat": 4,
 "nbformat_minor": 4
}
