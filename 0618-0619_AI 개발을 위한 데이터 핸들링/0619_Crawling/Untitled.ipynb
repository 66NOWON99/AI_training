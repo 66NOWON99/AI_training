{
 "cells": [
  {
   "cell_type": "code",
   "execution_count": 1,
   "metadata": {},
   "outputs": [],
   "source": [
    "from selenium import webdriver\n",
    "from selenium.webdriver.common.keys import Keys \n",
    "from bs4 import BeautifulSoup\n",
    "from urllib.request import urlopen\n",
    "# import pandas as pd\n",
    "import pyautogui\n",
    "import requests\n",
    "\n",
    "\n",
    "\n",
    "def title_link():\n",
    "    \n",
    "    keyword = input(\"키워드를 입력하세요 : \")\n",
    "\n",
    "    driver = webdriver.Chrome(\"./chromedriver.exe\")\n",
    "    driver.implicitly_wait(1)\n",
    "    \n",
    "    url = \"https://m.search.naver.com/search.naver?sm=mtb_hty.top&where=m_news\"\n",
    "    \n",
    "    driver.get(url)\n",
    "    search_box = driver.find_element_by_id(\"nx_query\")\n",
    "    search_box.send_keys(keyword)\n",
    "    pyautogui.press('enter')\n",
    "\n",
    "    \n",
    "    html = driver.page_source #옮긴 페이지 가져오고\n",
    "    bs = BeautifulSoup(html,'html.parser') #문서파싱 ; in for loop-page마다 파싱이 이뤄져야함\n",
    "\n",
    "    div = bs.find(\"div\", {\"class\":\"group_news\"})\n",
    "    divList = div.findAll(\"div\",{\"class\" : \"news_wrap\"} )\n",
    "    \n",
    "    titles_links = {}\n",
    "\n",
    "    for di in divList:\n",
    "        string = str(di.find(\"a\",{\"class\":\"news_tit\"}))\n",
    "        link = string[string.find(\"https\"):string.find(\"onclick\")]\n",
    "        link = link.replace('amp;','')\n",
    "        link = link[0:-2]\n",
    "        \n",
    "        title = string[string.find(keyword):string.find(\"</div> </a>\")]\n",
    "        title = title.replace(\"</b>\",\"\")\n",
    "        \n",
    "        titles_links[title]=link\n",
    "    return titles_links\n"
   ]
  },
  {
   "cell_type": "code",
   "execution_count": 2,
   "metadata": {},
   "outputs": [
    {
     "name": "stdout",
     "output_type": "stream",
     "text": [
      "키워드를 입력하세요 : 개\n"
     ]
    },
    {
     "ename": "AttributeError",
     "evalue": "'NoneType' object has no attribute 'findAll'",
     "output_type": "error",
     "traceback": [
      "\u001b[1;31m---------------------------------------------------------------------------\u001b[0m",
      "\u001b[1;31mAttributeError\u001b[0m                            Traceback (most recent call last)",
      "\u001b[1;32m<ipython-input-2-caa106759da9>\u001b[0m in \u001b[0;36m<module>\u001b[1;34m\u001b[0m\n\u001b[1;32m----> 1\u001b[1;33m \u001b[0mtitle\u001b[0m \u001b[1;33m=\u001b[0m \u001b[0mtitle_link\u001b[0m\u001b[1;33m(\u001b[0m\u001b[1;33m)\u001b[0m\u001b[1;33m\u001b[0m\u001b[1;33m\u001b[0m\u001b[0m\n\u001b[0m",
      "\u001b[1;32m<ipython-input-1-75c4f95f110e>\u001b[0m in \u001b[0;36mtitle_link\u001b[1;34m()\u001b[0m\n\u001b[0;32m     28\u001b[0m \u001b[1;33m\u001b[0m\u001b[0m\n\u001b[0;32m     29\u001b[0m     \u001b[0mdiv\u001b[0m \u001b[1;33m=\u001b[0m \u001b[0mbs\u001b[0m\u001b[1;33m.\u001b[0m\u001b[0mfind\u001b[0m\u001b[1;33m(\u001b[0m\u001b[1;34m\"div\"\u001b[0m\u001b[1;33m,\u001b[0m \u001b[1;33m{\u001b[0m\u001b[1;34m\"class\"\u001b[0m\u001b[1;33m:\u001b[0m\u001b[1;34m\"group_news\"\u001b[0m\u001b[1;33m}\u001b[0m\u001b[1;33m)\u001b[0m\u001b[1;33m\u001b[0m\u001b[1;33m\u001b[0m\u001b[0m\n\u001b[1;32m---> 30\u001b[1;33m     \u001b[0mdivList\u001b[0m \u001b[1;33m=\u001b[0m \u001b[0mdiv\u001b[0m\u001b[1;33m.\u001b[0m\u001b[0mfindAll\u001b[0m\u001b[1;33m(\u001b[0m\u001b[1;34m\"div\"\u001b[0m\u001b[1;33m,\u001b[0m\u001b[1;33m{\u001b[0m\u001b[1;34m\"class\"\u001b[0m \u001b[1;33m:\u001b[0m \u001b[1;34m\"news_wrap\"\u001b[0m\u001b[1;33m}\u001b[0m \u001b[1;33m)\u001b[0m\u001b[1;33m\u001b[0m\u001b[1;33m\u001b[0m\u001b[0m\n\u001b[0m\u001b[0;32m     31\u001b[0m \u001b[1;33m\u001b[0m\u001b[0m\n\u001b[0;32m     32\u001b[0m     \u001b[0mtitles_links\u001b[0m \u001b[1;33m=\u001b[0m \u001b[1;33m{\u001b[0m\u001b[1;33m}\u001b[0m\u001b[1;33m\u001b[0m\u001b[1;33m\u001b[0m\u001b[0m\n",
      "\u001b[1;31mAttributeError\u001b[0m: 'NoneType' object has no attribute 'findAll'"
     ]
    }
   ],
   "source": [
    "title = title_link()"
   ]
  },
  {
   "cell_type": "code",
   "execution_count": null,
   "metadata": {},
   "outputs": [],
   "source": []
  }
 ],
 "metadata": {
  "kernelspec": {
   "display_name": "Python 3",
   "language": "python",
   "name": "python3"
  },
  "language_info": {
   "codemirror_mode": {
    "name": "ipython",
    "version": 3
   },
   "file_extension": ".py",
   "mimetype": "text/x-python",
   "name": "python",
   "nbconvert_exporter": "python",
   "pygments_lexer": "ipython3",
   "version": "3.7.6"
  }
 },
 "nbformat": 4,
 "nbformat_minor": 4
}
