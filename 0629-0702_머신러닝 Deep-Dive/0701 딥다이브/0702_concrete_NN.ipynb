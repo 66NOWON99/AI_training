{
 "cells": [
  {
   "cell_type": "code",
   "execution_count": 69,
   "metadata": {},
   "outputs": [],
   "source": [
    "import tensorflow as tf\n",
    "import numpy as np\n",
    "from sklearn.preprocessing import MinMaxScaler"
   ]
  },
  {
   "cell_type": "code",
   "execution_count": 70,
   "metadata": {},
   "outputs": [
    {
     "name": "stdout",
     "output_type": "stream",
     "text": [
      "(1030, 8)\n",
      "(1030, 1)\n"
     ]
    },
    {
     "data": {
      "text/plain": [
       "array([[29.89],\n",
       "       [23.51],\n",
       "       [29.22],\n",
       "       ...,\n",
       "       [44.28],\n",
       "       [55.06],\n",
       "       [52.61]], dtype=float32)"
      ]
     },
     "execution_count": 70,
     "metadata": {},
     "output_type": "execute_result"
    }
   ],
   "source": [
    "##concrete의 strength를 예측하는 모델 - Neural Network로 만들기\n",
    "#concrete.csv불러옴\n",
    "\n",
    "xy = np.loadtxt('concrete.csv', delimiter=',', dtype=np.float32,skiprows=1)\n",
    "# x_data = xy[:,0:-1] #마지막 열을 제외한 데이터 추출\n",
    "# y_data = xy[:,[-1]] # 마지막 열만 추출 (2차원 형식)\n",
    "scaler = MinMaxScaler()\n",
    "x_data = scaler.fit_transform(xy[:,0:-1])\n",
    "y_data = scaler.fit_transform(xy[:,[-1]])"
   ]
  },
  {
   "cell_type": "code",
   "execution_count": 74,
   "metadata": {},
   "outputs": [
    {
     "name": "stdout",
     "output_type": "stream",
     "text": [
      "0 0.2507736\n",
      "6000 0.020384379\n",
      "12000 0.017219357\n",
      "18000 0.015716227\n",
      "24000 0.014711652\n",
      "30000 0.013899976\n"
     ]
    }
   ],
   "source": [
    "X = tf.placeholder(tf.float32, shape=[None, 8])\n",
    "Y = tf.placeholder(tf.float32, shape=[None, 1])\n",
    "\n",
    "W1 = tf.Variable(tf.random_normal([8,13]), name='weight')\n",
    "b1 = tf.Variable(tf.random_normal([13]), name='bias')\n",
    "layer1 = tf.sigmoid(tf.matmul(X,W1) + b1)\n",
    "\n",
    "W2 = tf.Variable(tf.random_normal([13,10]), name='weight')\n",
    "b2 = tf.Variable(tf.random_normal([10]), name='bias')\n",
    "layer2 = tf.sigmoid(tf.matmul(layer1,W2) + b2)\n",
    "\n",
    "W3 = tf.Variable(tf.random_normal([10,1]), name='weight')\n",
    "b3 = tf.Variable(tf.random_normal([1]), name='bias')\n",
    "hypothesis = tf.sigmoid(tf.matmul(layer2,W3) + b3)\n",
    "\n",
    "\n",
    "cost = tf.reduce_mean(tf.square(Y - hypothesis))\n",
    "train = tf.train.GradientDescentOptimizer(learning_rate=0.05).minimize(cost)\n",
    "\n",
    "with tf.Session() as sess:\n",
    "    sess.run(tf.global_variables_initializer())\n",
    "    \n",
    "    for step in range(30001):\n",
    "        cost_val, _ = sess.run([cost, train], feed_dict={X:x_data, Y:y_data})\n",
    "        if step % 6000 == 0:\n",
    "            print(step, cost_val)\n",
    "    \n",
    "#result\n",
    "# 0 0.2507736\n",
    "# 6000 0.020384379\n",
    "# 12000 0.017219357\n",
    "# 18000 0.015716227\n",
    "# 24000 0.014711652\n",
    "# 30000 0.013899976"
   ]
  },
  {
   "cell_type": "code",
   "execution_count": null,
   "metadata": {},
   "outputs": [],
   "source": []
  }
 ],
 "metadata": {
  "kernelspec": {
   "display_name": "Tensorflow",
   "language": "python",
   "name": "tensorflow"
  },
  "language_info": {
   "codemirror_mode": {
    "name": "ipython",
    "version": 3
   },
   "file_extension": ".py",
   "mimetype": "text/x-python",
   "name": "python",
   "nbconvert_exporter": "python",
   "pygments_lexer": "ipython3",
   "version": "3.7.6"
  }
 },
 "nbformat": 4,
 "nbformat_minor": 4
}
