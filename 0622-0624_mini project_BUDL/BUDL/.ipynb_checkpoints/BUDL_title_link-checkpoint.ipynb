{
 "cells": [
  {
   "cell_type": "code",
   "execution_count": 39,
   "metadata": {},
   "outputs": [],
   "source": [
    "from selenium import webdriver\n",
    "from selenium.webdriver.common.keys import Keys \n",
    "from bs4 import BeautifulSoup\n",
    "from urllib.request import urlopen\n",
    "# import pandas as pd\n",
    "import pyautogui\n",
    "import requests\n",
    "\n",
    "\n",
    "\n",
    "def title_link():\n",
    "    \n",
    "    keyword = input(\"키워드를 입력하세요 : \")\n",
    "\n",
    "    driver = webdriver.Chrome(\"./chromedriver.exe\")\n",
    "    driver.implicitly_wait(1)\n",
    "    \n",
    "    url = \"https://m.search.naver.com/search.naver?sm=mtb_hty.top&where=m_news\"\n",
    "    \n",
    "    driver.get(url)\n",
    "    search_box = driver.find_element_by_id(\"nx_query\") #검색창 선택 (choose search_box)\n",
    "    search_box.send_keys(keyword) #검색창에 검색어(keyword)입력 (send keyword to search_box)\n",
    "    pyautogui.press('enter') #press enter\n",
    "    \n",
    "\n",
    "    \n",
    "    html = driver.page_source #옮긴 페이지 가져오고\n",
    "    bs = BeautifulSoup(html,'html.parser') #문서파싱 ; in for loop-page마다 파싱이 이뤄져야함\n",
    "\n",
    "    div = bs.find(\"div\", {\"class\":\"group_news\"})\n",
    "    divList = div.findAll(\"div\",{\"class\" : \"news_wrap\"} )\n",
    "    \n",
    "    titles_links = {} #dict {title:link}\n",
    "\n",
    "    for di in divList:\n",
    "        di_find = di.find(\"a\",{\"class\":\"news_tit\"})\n",
    "        string = str(di_find)\n",
    "\n",
    "        #link        \n",
    "        link = string[string.find(\"http\"):string.find(\"onclick\")]\n",
    "        link = link.replace('amp;','')\n",
    "        link = link[0:-2]\n",
    "        \n",
    "        #title\n",
    "        title = di_find.text\n",
    "        \n",
    "        #put in dict\n",
    "        titles_links[title]=link\n",
    "    return titles_links\n",
    "\n",
    "\n",
    "\n"
   ]
  },
  {
   "cell_type": "code",
   "execution_count": 40,
   "metadata": {},
   "outputs": [
    {
     "name": "stdout",
     "output_type": "stream",
     "text": [
      "키워드를 입력하세요 : google\n"
     ]
    }
   ],
   "source": [
    "result = title_link()"
   ]
  },
  {
   "cell_type": "code",
   "execution_count": 41,
   "metadata": {},
   "outputs": [
    {
     "name": "stdout",
     "output_type": "stream",
     "text": [
      "{' ASUS의 화상회의 솔루션, ASUS Google Meet Hardware Kit 출시 기자 간담회 ': 'http://m.kbench.com/?q=node/211737', ' What’s Facebook’s Deal With Donald Trump? ': 'https://www.nytimes.com/2020/06/21/business/media/facebook-donald-trump-mark-zuckerberg.html?partner=naver', ' Move over BTS and Bong Joon-ho, K-games win abroad ': 'https://m.news.naver.com/read.nhn?mode=LSD&mid=sec&sid1=101&oid=640&aid=0000001512', ' Tech Goliaths Act Like Davids ': 'https://www.nytimes.com/2020/06/22/technology/big-tech-underdogs.html?partner=naver', ' Trump Superfans Line Up Early for Tulsa Rally ': 'https://www.nytimes.com/2020/06/18/world/coronavirus-cases-usa-world.html?partner=naver', ' France Google Fined ': 'https://m.news.naver.com/read.nhn?mode=LSD&mid=sec&sid1=104&oid=077&aid=0004844294', ' Britain Didn’t Want Silicon Valley’s Help on a Tracing App. Now It Does. ': 'https://www.nytimes.com/2020/06/18/business/britain-contact-tracing-app.html?partner=naver', ' Europe Rolls Out Contact Tracing Apps, With Hope and Trepidation ': 'https://www.nytimes.com/2020/06/16/world/europe/contact-tracing-apps-europe-coronavirus.html?partner=naver', ' 윤종신의 Google Talks 강의: 동기부여를 어떻게 유지하는가? ': 'https://ppss.kr/archives/209910', ' High School Students and Alumni Are Using Social Media to Expose Racism ': 'https://www.nytimes.com/2020/06/16/style/blm-accounts-social-media-high-school.html?partner=naver', ' Apple Rejects Facebook’s Gaming App, for at Least the Fifth Time ': 'https://www.nytimes.com/2020/06/18/technology/apple-ios-facebook-gaming-app.html?partner=naver', ' Tackling the Unsolvable Problem: The Bottomless Email Inbox ': 'https://www.nytimes.com/2020/06/17/technology/personaltech/hey-email-service-screening.html?partner=naver', \" Kia Motors Partners with Google Cloud to Develop AI-based Owner's Manual App \": 'http://www.businesskorea.co.kr/news/articleView.html?idxno=47754', ' Justice Dept. Urges Rolling Back Legal Shield for Tech Companies ': 'https://www.nytimes.com/2020/06/17/technology/justice-dept-urges-rolling-back-legal-shield-for-tech-companies.html?partner=naver', ' [News Focus] Are AR glasses really around the corner? ': 'https://m.news.naver.com/read.nhn?mode=LSD&mid=sec&sid1=104&oid=044&aid=0000219076'}\n"
     ]
    }
   ],
   "source": [
    "print(result)"
   ]
  },
  {
   "cell_type": "code",
   "execution_count": null,
   "metadata": {},
   "outputs": [],
   "source": []
  }
 ],
 "metadata": {
  "kernelspec": {
   "display_name": "Python 3",
   "language": "python",
   "name": "python3"
  },
  "language_info": {
   "codemirror_mode": {
    "name": "ipython",
    "version": 3
   },
   "file_extension": ".py",
   "mimetype": "text/x-python",
   "name": "python",
   "nbconvert_exporter": "python",
   "pygments_lexer": "ipython3",
   "version": "3.7.6"
  }
 },
 "nbformat": 4,
 "nbformat_minor": 4
}
