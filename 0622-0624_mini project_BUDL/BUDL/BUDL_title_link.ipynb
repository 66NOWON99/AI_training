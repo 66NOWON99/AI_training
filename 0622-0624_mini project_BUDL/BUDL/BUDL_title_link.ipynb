{
 "cells": [
  {
   "cell_type": "code",
   "execution_count": 45,
   "metadata": {},
   "outputs": [],
   "source": [
    "from selenium import webdriver\n",
    "from selenium.webdriver.common.keys import Keys \n",
    "from bs4 import BeautifulSoup\n",
    "from urllib.request import urlopen\n",
    "# import pandas as pd\n",
    "import pyautogui\n",
    "import requests\n",
    "\n",
    "\n",
    "\n",
    "def title_link():\n",
    "    \n",
    "    keyword = input(\"키워드를 입력하세요 : \")\n",
    "\n",
    "    driver = webdriver.Chrome(\"./chromedriver.exe\")\n",
    "    driver.implicitly_wait(1)\n",
    "    \n",
    "    url = \"https://m.search.naver.com/search.naver?sm=mtb_hty.top&where=m_news\"\n",
    "    \n",
    "    driver.get(url)\n",
    "    search_box = driver.find_element_by_id(\"nx_query\") #검색창 선택 (choose search_box)\n",
    "    search_box.send_keys(keyword) #검색창에 검색어(keyword)입력 (send keyword to search_box)\n",
    "    pyautogui.press('enter') #press enter\n",
    "    \n",
    "\n",
    "    \n",
    "    html = driver.page_source #옮긴 페이지 가져오고\n",
    "    bs = BeautifulSoup(html,'html.parser') #문서파싱 ; in for loop-page마다 파싱이 이뤄져야함\n",
    "\n",
    "    div = bs.find(\"div\", {\"class\":\"group_news\"})\n",
    "    divList = div.findAll(\"div\",{\"class\" : \"news_wrap\"} )\n",
    "    \n",
    "    titles_links = {} #dict {title:link}\n",
    "\n",
    "    for di in divList:\n",
    "        di_find = di.find(\"a\",{\"class\":\"news_tit\"})\n",
    "        string = str(di_find)\n",
    "\n",
    "        #link        \n",
    "        link = string[string.find(\"http\"):string.find(\"onclick\")]\n",
    "        link = link.replace('amp;','')\n",
    "        link = link[0:-2]\n",
    "        \n",
    "        #title\n",
    "        title = di_find.text\n",
    "        \n",
    "        #put in dict\n",
    "        titles_links[title]=link\n",
    "        \n",
    "        #test\n",
    "        print(\"link\",link)\n",
    "        print(\"title\",title)\n",
    "        print()\n",
    "    return titles_links\n",
    "\n",
    "\n",
    "\n"
   ]
  },
  {
   "cell_type": "code",
   "execution_count": 48,
   "metadata": {},
   "outputs": [
    {
     "name": "stdout",
     "output_type": "stream",
     "text": [
      "키워드를 입력하세요 : 뺑소니\n",
      "link http://m.sports.naver.com/kbaseball/news/read.nhn?oid=082&aid=0001011092\n",
      "title  '음주운전 뺑소니·삼진아웃' 강정호 \"자격 없지만…변화한 모습 보이고 싶다\" 호소 \n",
      "\n",
      "link http://m.sports.naver.com/kbaseball/news/read.nhn?oid=047&aid=0002274261\n",
      "title  [오마이포토] 굳은 얼굴의 강정호 \n",
      "\n",
      "link https://m.news.naver.com/read.nhn?mode=LSD&mid=sec&sid1=102&oid=023&aid=0003541088\n",
      "title  대낮 만취한 군청 공무원 교통사고 뺑소니 혐의로 붙잡혀 \n",
      "\n",
      "link http://m.sports.naver.com/general/news/read.nhn?oid=015&aid=0004366011\n",
      "title  [포토] 강정호, '음주 뺑소니 변명의 여지 없는 잘못' \n",
      "\n",
      "link https://m.news.naver.com/read.nhn?mode=LSD&mid=sec&sid1=115&oid=422&aid=0000434559\n",
      "title  [현장연결] 강정호 \"뺑소니는 해선 안 되는 행동…변명의 여지 없어\" \n",
      "\n",
      "link http://m.sports.naver.com/kbaseball/news/read.nhn?oid=421&aid=0004712848\n",
      "title  강정호, 박한이 은퇴에 \"형평성 놓고 볼 때 같은 생각…사죄드린다\" \n",
      "\n",
      "link http://m.sports.naver.com/kbaseball/news/read.nhn?oid=396&aid=0000553571\n",
      "title  [SW의눈]인간 강정호의 사과…이제와서 무슨 의미가 있나 \n",
      "\n",
      "link http://m.sports.naver.com/kbaseball/news/read.nhn?oid=047&aid=0002274266\n",
      "title  [오마이포토] 사과하는 강정호 \n",
      "\n",
      "link http://m.sports.naver.com/kbaseball/news/read.nhn?oid=011&aid=0003757823\n",
      "title  KBO 복귀 추진 강정호 “야구 하면서 변화한 모습 보이고 싶다” \n",
      "\n",
      "link http://m.sports.naver.com/kbaseball/news/read.nhn?oid=003&aid=0009928421\n",
      "title  드디어 입 여는 강정호…싸늘한 여론 돌릴 수 있을까 \n",
      "\n",
      "link https://m.news.naver.com/read.nhn?mode=LSD&mid=sec&sid1=102&oid=015&aid=0004365869\n",
      "title  성난 팬심에 입 여는 강정호…\"야구로 속죄\" 입장 밝힐까 \n",
      "\n",
      "link https://m.news.naver.com/read.nhn?mode=LSD&mid=sec&sid1=102&oid=015&aid=0004366119\n",
      "title  HK영상｜강정호 음주운전 사과 \"해서는 안되는 행동, 변명의 여지 없다\" \n",
      "\n",
      "link http://m.kukinews.com/m/m_article.html?no=801836\n",
      "title  음주 뺑소니 사고낸 예천군 공무원 덜미 \n",
      "\n",
      "link https://m.news.naver.com/read.nhn?mode=LSD&mid=sec&sid1=102&oid=079&aid=0003372896\n",
      "title  '경찰서 코 앞에서' 음주운전 뺑소니 20대 자수 \n",
      "\n",
      "link http://topclass.chosun.com/mobile/topp/view.asp?idx=505&Newsnumb=202006505&ctcd=C25\n",
      "title  [박은영의 금융! 바로 알고 활용하기] 자동차보험과 운전자보험, 더 챙겨야 할 부분은? | 민식이법과 개정된 보험약관 \n",
      "\n"
     ]
    }
   ],
   "source": [
    "result = title_link()"
   ]
  },
  {
   "cell_type": "code",
   "execution_count": 49,
   "metadata": {},
   "outputs": [
    {
     "name": "stdout",
     "output_type": "stream",
     "text": [
      "{' \\'음주운전 뺑소니·삼진아웃\\' 강정호 \"자격 없지만…변화한 모습 보이고 싶다\" 호소 ': 'http://m.sports.naver.com/kbaseball/news/read.nhn?oid=082&aid=0001011092', ' [오마이포토] 굳은 얼굴의 강정호 ': 'http://m.sports.naver.com/kbaseball/news/read.nhn?oid=047&aid=0002274261', ' 대낮 만취한 군청 공무원 교통사고 뺑소니 혐의로 붙잡혀 ': 'https://m.news.naver.com/read.nhn?mode=LSD&mid=sec&sid1=102&oid=023&aid=0003541088', \" [포토] 강정호, '음주 뺑소니 변명의 여지 없는 잘못' \": 'http://m.sports.naver.com/general/news/read.nhn?oid=015&aid=0004366011', ' [현장연결] 강정호 \"뺑소니는 해선 안 되는 행동…변명의 여지 없어\" ': 'https://m.news.naver.com/read.nhn?mode=LSD&mid=sec&sid1=115&oid=422&aid=0000434559', ' 강정호, 박한이 은퇴에 \"형평성 놓고 볼 때 같은 생각…사죄드린다\" ': 'http://m.sports.naver.com/kbaseball/news/read.nhn?oid=421&aid=0004712848', ' [SW의눈]인간 강정호의 사과…이제와서 무슨 의미가 있나 ': 'http://m.sports.naver.com/kbaseball/news/read.nhn?oid=396&aid=0000553571', ' [오마이포토] 사과하는 강정호 ': 'http://m.sports.naver.com/kbaseball/news/read.nhn?oid=047&aid=0002274266', ' KBO 복귀 추진 강정호 “야구 하면서 변화한 모습 보이고 싶다” ': 'http://m.sports.naver.com/kbaseball/news/read.nhn?oid=011&aid=0003757823', ' 드디어 입 여는 강정호…싸늘한 여론 돌릴 수 있을까 ': 'http://m.sports.naver.com/kbaseball/news/read.nhn?oid=003&aid=0009928421', ' 성난 팬심에 입 여는 강정호…\"야구로 속죄\" 입장 밝힐까 ': 'https://m.news.naver.com/read.nhn?mode=LSD&mid=sec&sid1=102&oid=015&aid=0004365869', ' HK영상｜강정호 음주운전 사과 \"해서는 안되는 행동, 변명의 여지 없다\" ': 'https://m.news.naver.com/read.nhn?mode=LSD&mid=sec&sid1=102&oid=015&aid=0004366119', ' 음주 뺑소니 사고낸 예천군 공무원 덜미 ': 'http://m.kukinews.com/m/m_article.html?no=801836', \" '경찰서 코 앞에서' 음주운전 뺑소니 20대 자수 \": 'https://m.news.naver.com/read.nhn?mode=LSD&mid=sec&sid1=102&oid=079&aid=0003372896', ' [박은영의 금융! 바로 알고 활용하기] 자동차보험과 운전자보험, 더 챙겨야 할 부분은? | 민식이법과 개정된 보험약관 ': 'http://topclass.chosun.com/mobile/topp/view.asp?idx=505&Newsnumb=202006505&ctcd=C25'}\n"
     ]
    }
   ],
   "source": [
    "print(result)"
   ]
  },
  {
   "cell_type": "code",
   "execution_count": null,
   "metadata": {},
   "outputs": [],
   "source": []
  }
 ],
 "metadata": {
  "kernelspec": {
   "display_name": "Python 3",
   "language": "python",
   "name": "python3"
  },
  "language_info": {
   "codemirror_mode": {
    "name": "ipython",
    "version": 3
   },
   "file_extension": ".py",
   "mimetype": "text/x-python",
   "name": "python",
   "nbconvert_exporter": "python",
   "pygments_lexer": "ipython3",
   "version": "3.7.6"
  }
 },
 "nbformat": 4,
 "nbformat_minor": 4
}
